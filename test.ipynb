{
 "cells": [
  {
   "cell_type": "code",
   "execution_count": 1,
   "metadata": {},
   "outputs": [],
   "source": [
    "\n",
    "import matplotlib.pyplot as plt\n",
    "import numpy as np\n",
    "import random\n",
    "from matplotlib import style\n",
    "style.use('ggplot')\n",
    "from scipy.fftpack import fft,fftfreq, ifft"
   ]
  },
  {
   "cell_type": "code",
   "execution_count": 5,
   "metadata": {},
   "outputs": [],
   "source": [
    "\n",
    "def FSkgen(inpSig, fskFreq1, fskFreq2):\n",
    "    #create a time domain from 0 to length of input(bit length) in intervals of 0.01....thus total of 100 samples per bit...hence 1600 samples for 16 bit data.\n",
    "    timepd = np.arange(0 ,len(inpSig) ,0.01)\n",
    "\n",
    "    #init arrays mainsig to store output FSK and adjsig array which stores same data as input signal but sampled at 100 samples/bit to plot with timepd\n",
    "    #lval is just a constant used to iteratively jump 100 samples to next bit at every next iteration, thus looping 16 times for 16 bits.\n",
    "    mainsig = []\n",
    "    lval = 0\n",
    "    adjsig = []\n",
    "\n",
    "\n",
    "    for i in range(0 ,len(inpSig)):\n",
    "        #this loop iterates 16 times for each bit\n",
    "        for j in range(lval,lval+100):\n",
    "            #this loop iterates 100 times for each bit (once for each sample)\n",
    "            if inpSig[i]==1:\n",
    "                #append sinewave with frequency fskFreq1 for bit 1 --- 100 samples \n",
    "                mainsig.append( np.sin(2*np.pi*fskFreq1*timepd[j]) )\n",
    "            else:\n",
    "                #append sinewave with frequence fskFreq2 for bit 0 --- 100 samples\n",
    "                mainsig.append( np.sin(2*np.pi*fskFreq2*timepd[j]) )\n",
    "            adjsig.append(inpSig[i])\n",
    "            lval+=1\n",
    "    return timepd,mainsig,adjsig\n",
    "\n"
   ]
  },
  {
   "cell_type": "code",
   "execution_count": 10,
   "metadata": {},
   "outputs": [],
   "source": [
    "def FSKdemod(FSKsig):\n",
    "    sample_duration = len(FSKsig)/16\n",
    "    i = 0\n",
    "    #initializing crosscount array to count the number of zero crossings per bit duration(100 samples) and bitstream array to store output demodulated 16 bits\n",
    "    cross_count = []\n",
    "    bitstream =[]\n",
    "\n",
    "    while i<len(FSKsig):\n",
    "        zero_cross = []\n",
    "\n",
    "        #reference frame is a frame of continous sampled FSK data representing one bit of 16 bit representation---frames of 100 samples each \n",
    "        ref_frame = FSKsig[int(i):int(i+sample_duration)]\n",
    "\n",
    "        #iterating through the frame , note that we exclude last and first indices...i'll get back to that\n",
    "        for x in range(1, len(ref_frame)-1 ):\n",
    "            \n",
    "            #checking prev and next element to detect zero crossing... this is where the excluded last and first indices are taken in, iteratively going thru [i-1] & [i+1] each step\n",
    "            if np.logical_and(ref_frame[x-1]<0 , ref_frame[x+1]>0) or np.logical_and(ref_frame[x-1]>0, ref_frame[x+1]<0):\n",
    "                zero_cross.append(round(ref_frame[x],2))\n",
    "            else:\n",
    "                pass\n",
    "        cross_count.append(len(zero_cross))\n",
    "        i+=sample_duration\n",
    "    \n",
    "    #through trial and error its estimated that there will be more than 5 zero crossings for bit 1, Thersholding crosscount and setting bit values of bitstream accordingly\n",
    "    #The threshold can be determined more accurately using statistical methods but i decided to omit this step and hardcode instead\n",
    "    for k in range(0, len(cross_count)):\n",
    "        if cross_count[k]<5:\n",
    "            bitstream.append(0)\n",
    "        else:\n",
    "            bitstream.append(1)\n",
    "    \n",
    "    return bitstream"
   ]
  },
  {
   "cell_type": "code",
   "execution_count": 9,
   "metadata": {},
   "outputs": [
    {
     "name": "stdout",
     "output_type": "stream",
     "text": [
      "\n",
      "the input binary sequence is : [1, 1, 1, 0, 1, 1, 0, 1, 1, 0, 0, 0, 0, 0, 0, 0]\n",
      "\n"
     ]
    },
    {
     "data": {
      "text/plain": [
       "array([0.00000000e+00, 1.00062539e-02, 2.00125078e-02, ...,\n",
       "       1.59799875e+01, 1.59899937e+01, 1.60000000e+01])"
      ]
     },
     "execution_count": 9,
     "metadata": {},
     "output_type": "execute_result"
    }
   ],
   "source": [
    "bitlen = 16\n",
    "inpSig = [random.randint(0,1) for x in range(0,bitlen)]\n",
    "print('\\nthe input binary sequence is : {}\\n'.format(inpSig))\n",
    "\n",
    "#compute FSK of input signal with fskFreq1 for bit1 as 2Hz, fskFreq2 for  bit2 as 0.9Hz...frequencies chosen for better visibility in plots\n",
    "timepd,mainsig,adjsig = FSkgen(inpSig,2,0.9)\n",
    "\n",
    "time = np.linspace(0, 16, 1600, endpoint=True)\n"
   ]
  }
 ],
 "metadata": {
  "kernelspec": {
   "display_name": "Python 3",
   "language": "python",
   "name": "python3"
  },
  "language_info": {
   "codemirror_mode": {
    "name": "ipython",
    "version": 3
   },
   "file_extension": ".py",
   "mimetype": "text/x-python",
   "name": "python",
   "nbconvert_exporter": "python",
   "pygments_lexer": "ipython3",
   "version": "3.10.5 (tags/v3.10.5:f377153, Jun  6 2022, 16:14:13) [MSC v.1929 64 bit (AMD64)]"
  },
  "orig_nbformat": 4,
  "vscode": {
   "interpreter": {
    "hash": "f2ccb58c476f33ba3e3aee7ac07234ef6b8217ef24ad64d2a7d4fed1a57c1cd2"
   }
  }
 },
 "nbformat": 4,
 "nbformat_minor": 2
}
